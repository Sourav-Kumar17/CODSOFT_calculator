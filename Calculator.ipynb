{
 "cells": [
  {
   "cell_type": "code",
   "execution_count": 101,
   "id": "f4c91896-4bed-4c0c-bcfc-73adb0ca9e21",
   "metadata": {},
   "outputs": [
    {
     "name": "stdout",
     "output_type": "stream",
     "text": [
      "___SIMPLE CALCULATOR___\n"
     ]
    },
    {
     "name": "stdin",
     "output_type": "stream",
     "text": [
      "Enter The Number:  56\n",
      "Enter The Number:  90\n"
     ]
    },
    {
     "name": "stdout",
     "output_type": "stream",
     "text": [
      "Select Operation:\n",
      "1. Addition (+)\n",
      "2. Subtraction (-)\n",
      "3. Multiplication (*)\n",
      "4. Division (/)\n"
     ]
    },
    {
     "name": "stdin",
     "output_type": "stream",
     "text": [
      "Enter Choice (1/2/3/4 or + - * /): 4\n"
     ]
    },
    {
     "name": "stdout",
     "output_type": "stream",
     "text": [
      "\n",
      "Result: 56.0 / 90.0 = 0.6222222222222222\n"
     ]
    }
   ],
   "source": [
    "# Simple Calculator in Python\n",
    "def calculator():\n",
    "    print('___SIMPLE CALCULATOR___')\n",
    "    \n",
    "    try:\n",
    "        num1 = float(input('Enter The Number: '))\n",
    "        num2 = float(input('Enter The Number: '))\n",
    "        \n",
    "        print(\"Select Operation:\")\n",
    "        print(\"1. Addition (+)\")\n",
    "        print(\"2. Subtraction (-)\")\n",
    "        print(\"3. Multiplication (*)\")\n",
    "        print(\"4. Division (/)\")\n",
    "\n",
    "        choice = input('Enter Choice (1/2/3/4 or + - * /):')\n",
    "\n",
    "\n",
    "        if choice in [\"1\",\"+\"]:\n",
    "            result = num1+num2\n",
    "            op = \"+\"\n",
    "        elif choice in [\"2\",\"-\"]:\n",
    "            result = num1-num2\n",
    "            op = \"-\"\n",
    "        elif choice in [\"3\",\"*\"]:\n",
    "            result = num1 * num2\n",
    "            op = \"*\"\n",
    "        elif choice in [\"4\",\"/\"]:\n",
    "            if num2 != 0:\n",
    "                 result = num1 / num2\n",
    "                 op = \"/\"\n",
    "            else:\n",
    "                print('Error: Division by Zero')\n",
    "                return\n",
    "        else:\n",
    "            print('Invalide Operation Choice!')\n",
    "            return\n",
    "        print(f\"\\nResult: {num1} {op} {num2} = {result}\")\n",
    "    except ValueError:\n",
    "        print(\"Invalid input! Please enter numeric values.\")\n",
    "    \n",
    "calculator()  "
   ]
  },
  {
   "cell_type": "code",
   "execution_count": null,
   "id": "1fdb84f1-2fe6-4a5a-a7bf-db865e967ce9",
   "metadata": {},
   "outputs": [],
   "source": []
  }
 ],
 "metadata": {
  "kernelspec": {
   "display_name": "Python 3 (ipykernel)",
   "language": "python",
   "name": "python3"
  },
  "language_info": {
   "codemirror_mode": {
    "name": "ipython",
    "version": 3
   },
   "file_extension": ".py",
   "mimetype": "text/x-python",
   "name": "python",
   "nbconvert_exporter": "python",
   "pygments_lexer": "ipython3",
   "version": "3.12.4"
  }
 },
 "nbformat": 4,
 "nbformat_minor": 5
}
